{
  "nbformat": 4,
  "nbformat_minor": 0,
  "metadata": {
    "colab": {
      "name": "inference_params",
      "provenance": [],
      "collapsed_sections": [],
      "authorship_tag": "ABX9TyOvtroVQCMFc6EvW98mzJFk",
      "include_colab_link": true
    },
    "kernelspec": {
      "name": "python3",
      "display_name": "Python 3"
    },
    "language_info": {
      "name": "python"
    }
  },
  "cells": [
    {
      "cell_type": "markdown",
      "metadata": {
        "id": "view-in-github",
        "colab_type": "text"
      },
      "source": [
        "<a href=\"https://colab.research.google.com/github/matthewchung74/blogs/blob/dev/inference_params.ipynb\" target=\"_parent\"><img src=\"https://colab.research.google.com/assets/colab-badge.svg\" alt=\"Open In Colab\"/></a>"
      ]
    },
    {
      "cell_type": "code",
      "metadata": {
        "id": "pyx5u_nrLttC"
      },
      "source": [
        "import os\n",
        "import subprocess\n",
        "import sys\n",
        "from enum import Enum\n",
        "import traceback\n",
        "\n",
        "import cv2\n",
        "import PIL\n",
        "import json\n",
        "from pathlib import Path\n",
        "\n",
        "from functools import wraps\n",
        "import time\n",
        "import pdb\n",
        "\n",
        "class FieldType(str, Enum):\n",
        "  Text = \"Text\"\n",
        "  OpenCV = \"OpenCV\"\n",
        "  PIL = \"PIL\"\n",
        "\n",
        "class EnumEncoder(json.JSONEncoder):\n",
        "    def default(self, obj):\n",
        "        if type(obj) in FieldType.values():\n",
        "            return {\"__enum__\": str(obj)}\n",
        "        return json.JSONEncoder.default(self, obj)\n",
        "\n",
        "def as_enum(d):\n",
        "    if \"__enum__\" in d:\n",
        "        name, member = d[\"__enum__\"].split(\".\")\n",
        "        return getattr(FieldType[name], member)\n",
        "    else:\n",
        "        return d\n",
        "\n",
        "def in_colab():\n",
        "    try:\n",
        "        import google.colab\n",
        "        return True\n",
        "    except:\n",
        "        return False\n",
        "\n",
        "def grab_image(image_type:ImageType):\n",
        "    image_name = \"test_download_image.jpg\"\n",
        "    if not Path(image_name).exists():\n",
        "        url = \"http://images.cocodataset.org/val2017/000000439715.jpg\"\n",
        "        r = requests.get(url, allow_redirects=True)\n",
        "        open(image_name, 'wb').write(r.content)\n",
        "    if image_type.value == ImageType.OpenCV.value:\n",
        "        return cv2.imread(image_name)\n",
        "    else:\n",
        "        return PIL.Image.open(image_name)\n",
        "\n",
        "def inference_predict(input:dict, output:dict): \n",
        "    if not Path(\"input.json\").exists() or in_colab():\n",
        "        expect_json = json.dumps(input, cls=EnumEncoder)\n",
        "        with open(\"input.json\",\"w\") as f: \n",
        "            f.write(expect_json)\n",
        "\n",
        "    output_json = json.dumps(output, cls=EnumEncoder)\n",
        "    if not Path(\"output.json\").exists() or in_colab():\n",
        "        with open(\"output.json\",\"w\") as f: \n",
        "            f.write(output_json)\n",
        "\n",
        "    def inference_predict_decorator(func):\n",
        "        @wraps(func)\n",
        "        def inference_predict_wrapper(*args, **kwargs): \n",
        "            begin = time.time()               \n",
        "            result = func(*args, **kwargs) \n",
        "            end = time.time() \n",
        "            return (result, end-begin)\n",
        "        return inference_predict_wrapper\n",
        "    return inference_predict_decorator\n",
        "\n",
        "def inference_test(params: dict):\n",
        "    try:\n",
        "        if not Path(\"input.json\").exists():\n",
        "            raise Exception('missing input.json')\n",
        "        else:   \n",
        "            with open(\"input.json\") as f:\n",
        "                input = json.load(f);\n",
        "\n",
        "        if type(params) is not dict:\n",
        "            raise Exception('params needs to be a dictionary')\n",
        "\n",
        "            print(param.keys)\n",
        "\n",
        "            result, duration = predict(params)\n",
        "            with open('result.json', 'w') as f:\n",
        "                json.dump(result, f);\n",
        "    except:\n",
        "        traceback.print_exc()    "
      ],
      "execution_count": 79,
      "outputs": []
    },
    {
      "cell_type": "code",
      "metadata": {
        "id": "KK6r1GIrTDC8"
      },
      "source": [
        "# text input will be the label for the app input\n",
        "input = {\"text input\": FieldType.Text}\n",
        "# result will be the label for the app output\n",
        "output = {\"result\": FieldType.Text}\n",
        "\n",
        "@inference_predict(input=input, output=output)\n",
        "def predict(params):\n",
        "    return {\"result\": \"positive and 100% accurage\"}"
      ],
      "execution_count": 80,
      "outputs": []
    },
    {
      "cell_type": "code",
      "metadata": {
        "id": "Wzd9Lnd8cNmA"
      },
      "source": [
        "inference_test({'text input': 'loved that movie'})"
      ],
      "execution_count": 81,
      "outputs": []
    },
    {
      "cell_type": "code",
      "metadata": {
        "id": "f95SZhmjwiFh"
      },
      "source": [
        ""
      ],
      "execution_count": null,
      "outputs": []
    }
  ]
}